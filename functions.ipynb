{
 "cells": [
  {
   "cell_type": "code",
   "execution_count": 5,
   "id": "375961c4-5be0-483e-88b0-6935ec67202b",
   "metadata": {},
   "outputs": [],
   "source": [
    "import pandas as pd\n",
    "import numpy as np\n",
    "from datetime import timedelta\n",
    "import os\n",
    "import matplotlib.pyplot as plt\n",
    "from sklearn.linear_model import QuantileRegressor\n",
    "from sklearn import linear_model\n",
    "from sklearn.ensemble import GradientBoostingRegressor\n",
    "from sklearn.preprocessing import FunctionTransformer"
   ]
  },
  {
   "cell_type": "code",
   "execution_count": 2,
   "id": "9e2803ad-3929-4d53-8212-90d5c8a568b0",
   "metadata": {},
   "outputs": [],
   "source": [
    "def sin_transformer(period):\n",
    "    return FunctionTransformer(lambda x: np.sin(x / period * 2 * np.pi))\n",
    "\n",
    "def cos_transformer(period):\n",
    "    return FunctionTransformer(lambda x: np.cos(x / period * 2 * np.pi))"
   ]
  },
  {
   "cell_type": "code",
   "execution_count": 6,
   "id": "8238fa67-99ba-465a-9713-516c3cedeec1",
   "metadata": {},
   "outputs": [],
   "source": [
    "%run mixture.py"
   ]
  },
  {
   "cell_type": "code",
   "execution_count": null,
   "id": "b39213db-cc2f-492d-8a37-72a589c0b60b",
   "metadata": {},
   "outputs": [],
   "source": [
    "def empirical_coverage(true_value,lower_bound,upper_bound):\n",
    "    \"\"\"\n",
    "    a function to compuute the empirical coverage of the different quantiles\n",
    "\n",
    "    input:\n",
    "    \n",
    "    true_value : array,\n",
    "    the true value, the target we want to estimate\n",
    "\n",
    "    lower bound : array, \n",
    "    the array with the predictions made according to the lowest quantile of \n",
    "    the bounds\n",
    "\n",
    "    upper bound : arrray, \n",
    "    the array with the predictions made according to the highest quantile of \n",
    "    the bounds\n",
    "\n",
    "    returns :  \n",
    "    \n",
    "    empirical_cov : float, \n",
    "    the empirical coverage achieved by the estimators\n",
    "    \"\"\"\n",
    "    true_val = true_value\n",
    "    length = true_val.shape[0]\n",
    "    empirical_cov = 0\n",
    "    for i in range(length):\n",
    "        if true_val[i] < upper_bound[i] and true_val[i] > lower_bound[i]:\n",
    "            empirical_cov += 1\n",
    "    empirical_cov /= length\n",
    "    \n",
    "    return empirical_cov"
   ]
  },
  {
   "cell_type": "code",
   "execution_count": null,
   "id": "69a4e3e3-4a0e-43c3-86d8-b74cbf11796e",
   "metadata": {},
   "outputs": [],
   "source": []
  }
 ],
 "metadata": {
  "kernelspec": {
   "display_name": "Python 3 (ipykernel)",
   "language": "python",
   "name": "python3"
  },
  "language_info": {
   "codemirror_mode": {
    "name": "ipython",
    "version": 3
   },
   "file_extension": ".py",
   "mimetype": "text/x-python",
   "name": "python",
   "nbconvert_exporter": "python",
   "pygments_lexer": "ipython3",
   "version": "3.12.7"
  }
 },
 "nbformat": 4,
 "nbformat_minor": 5
}
