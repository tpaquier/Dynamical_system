{
 "cells": [
  {
   "cell_type": "markdown",
   "metadata": {
    "id": "GgBVGIUIVVWx"
   },
   "source": [
    "# Analysing molecular dynamics simulations\n",
    "\n",
    "> _Original Author:_ Giacomo Meanti — [Giodiro](https://github.com/Giodiro)\n",
    "> _Modified by:_ Grégoire Pacreau\n",
    "\n",
    "In this tutorial we will do a simple spectral analysis of a molecular dynamics simulation of the alanine dipeptide.\n",
    "This small molecule is often used as a test bench for algorithms working on MD since it provides interesting, slow dynamics while being small and easy to work with.\n",
    "\n",
    "We will start by training a Nystroem reduced rank regression model with the `kooplearn.models.NystroemKernel` class and a Gaussian kernel, and from there move to the spectral analysis of eigenvalues and eigenfunctions of the estimated Koopman operator.\n",
    "\n",
    "Using the Nystroem approximation allows us to run a full analysis of MD data in a few seconds, without needing to subsample the trajectories too much (we will be training models on 25k and 50k points in a matter of seconds)."
   ]
  },
  {
   "cell_type": "markdown",
   "metadata": {
    "id": "7COeR5LUUjMS"
   },
   "source": [
    "## Setup"
   ]
  },
  {
   "cell_type": "code",
   "execution_count": 1,
   "metadata": {},
   "outputs": [
    {
     "name": "stdout",
     "output_type": "stream",
     "text": [
      "Collecting kooplearn\n",
      "  Downloading kooplearn-1.1.3-py3-none-any.whl.metadata (4.4 kB)\n",
      "Requirement already satisfied: numpy>=1.20.0 in /opt/conda/lib/python3.12/site-packages (from kooplearn) (2.1.3)\n",
      "Requirement already satisfied: scikit-learn in /opt/conda/lib/python3.12/site-packages (from kooplearn) (1.5.2)\n",
      "Requirement already satisfied: scipy in /opt/conda/lib/python3.12/site-packages (from kooplearn) (1.14.1)\n",
      "Requirement already satisfied: tqdm in /opt/conda/lib/python3.12/site-packages (from kooplearn) (4.66.5)\n",
      "Requirement already satisfied: joblib>=1.2.0 in /opt/conda/lib/python3.12/site-packages (from scikit-learn->kooplearn) (1.4.2)\n",
      "Requirement already satisfied: threadpoolctl>=3.1.0 in /opt/conda/lib/python3.12/site-packages (from scikit-learn->kooplearn) (3.5.0)\n",
      "Downloading kooplearn-1.1.3-py3-none-any.whl (71 kB)\n",
      "Installing collected packages: kooplearn\n",
      "Successfully installed kooplearn-1.1.3\n",
      "Note: you may need to restart the kernel to use updated packages.\n"
     ]
    }
   ],
   "source": [
    "import importlib\n",
    "\n",
    "for module in ['kooplearn', 'matplotlib']:\n",
    "    try:\n",
    "        importlib.import_module(module)\n",
    "    except ImportError:\n",
    "        %pip install {module}"
   ]
  },
  {
   "cell_type": "code",
   "execution_count": 2,
   "metadata": {
    "executionInfo": {
     "elapsed": 330,
     "status": "ok",
     "timestamp": 1709216643239,
     "user": {
      "displayName": "Giacomo Turri",
      "userId": "13549940502458923269"
     },
     "user_tz": -60
    },
    "id": "JV96AGIFa7j6"
   },
   "outputs": [],
   "source": [
    "import os\n",
    "from urllib.request import urlretrieve\n",
    "import numpy as np\n",
    "import matplotlib.pyplot as plt\n",
    "from matplotlib import colors\n",
    "from sklearn.gaussian_process.kernels import RBF\n",
    "from kooplearn.models import NystroemKernel, Kernel\n",
    "from kooplearn.data import traj_to_contexts"
   ]
  },
  {
   "cell_type": "markdown",
   "metadata": {},
   "source": [
    "### Download the data\n",
    "\n",
    "The data consists of 3 250ns long independent molecular dynamic runs of the alanine dipeptide.\n",
    "The first file contains the backbone dihedral angles $\\phi, \\psi$. They are known to provide enough information to identify \n",
    "the slow transitions of the dipeptide.\n",
    "\n",
    "We will not use the dihedrals for training but only for the subsequent analysis: \n",
    "we will show that a model trained on the heavy atom pairwise distances (contained in the second file we're downloading)\n",
    "can recover the same slow transitions as can be done by analyzing the dihedrals.\n",
    "\n",
    "In a more realistic example, one would not have access to the dihedrals but would still be interested in recovering\n",
    "slow transitions of the molecule.\n",
    " \n",
    "For more information about the data, see https://markovmodel.github.io/mdshare/ALA2/#alanine-dipeptide\n"
   ]
  },
  {
   "cell_type": "code",
   "execution_count": 3,
   "metadata": {
    "ExecuteTime": {
     "end_time": "2024-03-05T12:40:03.959327164Z",
     "start_time": "2024-03-05T12:40:03.931777652Z"
    }
   },
   "outputs": [],
   "source": [
    "base_url = \"http://ftp.imp.fu-berlin.de/pub/cmb-data/\"\n",
    "files = [\n",
    "    \"alanine-dipeptide-3x250ns-backbone-dihedrals.npz\",\n",
    "    \"alanine-dipeptide-3x250ns-heavy-atom-distances.npz\",\n",
    "]\n",
    "for file in files:\n",
    "    if not os.path.isfile(file):\n",
    "        urlretrieve(base_url + file, file)"
   ]
  },
  {
   "cell_type": "markdown",
   "metadata": {},
   "source": [
    "We will use the first of three simulations for training and the second for testing. We will also subsample the data to reduce the dataset."
   ]
  },
  {
   "cell_type": "code",
   "execution_count": 5,
   "metadata": {
    "ExecuteTime": {
     "end_time": "2024-03-05T12:50:03.243998267Z",
     "start_time": "2024-03-05T12:50:03.060062313Z"
    },
    "executionInfo": {
     "elapsed": 3,
     "status": "ok",
     "timestamp": 1709216643651,
     "user": {
      "displayName": "Giacomo Turri",
      "userId": "13549940502458923269"
     },
     "user_tz": -60
    },
    "id": "3XxzzJuDaxIe"
   },
   "outputs": [],
   "source": [
    "train_distances = np.load(files[1])[\"arr_0\"]\n",
    "test_distances = np.load(files[1])[\"arr_1\"]\n",
    "test_dihedrals = np.load(files[0])[\"arr_1\"]\n",
    "time_ns = np.arange(train_distances.shape[0], dtype=np.float64)*1e-3\n",
    "\n",
    "subsample = 20"
   ]
  },
  {
   "cell_type": "markdown",
   "metadata": {},
   "source": [
    "**Question 1.** Create the atom distance and the Ramachandran plot (the angle $\\phi$ and $\\psi$ of backbone dihedral against each other). Notice the clusters, they define the states in which the protein can be."
   ]
  },
  {
   "cell_type": "code",
   "execution_count": 6,
   "metadata": {
    "ExecuteTime": {
     "end_time": "2024-03-05T12:52:36.732175427Z",
     "start_time": "2024-03-05T12:52:36.528563824Z"
    },
    "executionInfo": {
     "elapsed": 3,
     "status": "ok",
     "timestamp": 1709216643651,
     "user": {
      "displayName": "Giacomo Turri",
      "userId": "13549940502458923269"
     },
     "user_tz": -60
    },
    "id": "Kbho7Mx8axIe"
   },
   "outputs": [],
   "source": [
    "#reduced rank = True --> RRR"
   ]
  },
  {
   "cell_type": "code",
   "execution_count": 16,
   "metadata": {
    "collapsed": true,
    "jupyter": {
     "outputs_hidden": true
    },
    "scrolled": true
   },
   "outputs": [
    {
     "data": {
      "text/plain": [
       "[<matplotlib.lines.Line2D at 0x7fda793c04d0>]"
      ]
     },
     "execution_count": 16,
     "metadata": {},
     "output_type": "execute_result"
    },
    {
     "data": {
      "image/png": "[encoded data removed]",
      "text/plain": [
       "<Figure size 640x480 with 1 Axes>"
      ]
     },
     "metadata": {},
     "output_type": "display_data"
    }
   ],
   "source": [
    "plt.plot(test_dihedrals[:,0],test_dihedrals[:,1],',')"
   ]
  },
  {
   "cell_type": "markdown",
   "metadata": {},
   "source": [
    "## Model training"
   ]
  },
  {
   "cell_type": "markdown",
   "metadata": {},
   "source": [
    "**Question 2.** Build contextsGenerate the following arrays:\n",
    " - `tr_dist_ctx`: the training context (x and y). This uses atom distances\n",
    " - `ts_dist_ctx`: the test context (x and y) using atom distances\n",
    " - `ts_dih_ctx`: an auxiliary *test* context which contains dihedrals instead of atom distances"
   ]
  },
  {
   "cell_type": "code",
   "execution_count": 62,
   "metadata": {},
   "outputs": [],
   "source": [
    "#tr_dist_ctx = traj_to_context(train_distances,context_window_len=3)\n",
    "tr_dist_ctx = traj_to_contexts(train_distances[::20,:],time_lag=10)\n",
    "ts_dist_ctx = traj_to_contexts(test_distances[::20,:],time_lag=10)\n",
    "ts_dih_ctx = traj_to_contexts(test_dihedrals[::20,:],time_lag=10)"
   ]
  },
  {
   "cell_type": "markdown",
   "metadata": {},
   "source": [
    "**Question 3.** We will use the RBF kernel for our analysis. Give the equation of that kernel. Take some (less than 50) samples in the training set and compute the proximity matrix using this kernel and length scale parameter ranging from $10^{-3}$ to $10$. What do you deduce on the influence of the length scale parameter?"
   ]
  },
  {
   "cell_type": "code",
   "execution_count": 63,
   "metadata": {
    "collapsed": true,
    "jupyter": {
     "outputs_hidden": true
    },
    "scrolled": true
   },
   "outputs": [
    {
     "data": {
      "text/plain": [
       "<matplotlib.image.AxesImage at 0x7fda6944a840>"
      ]
     },
     "execution_count": 63,
     "metadata": {},
     "output_type": "execute_result"
    },
    {
     "data": {
      "image/png": "[encoded data removed]",
      "text/plain": [
       "<Figure size 640x480 with 1 Axes>"
      ]
     },
     "metadata": {},
     "output_type": "display_data"
    }
   ],
   "source": [
    "kernel = RBF(length_scale=0.5)\n",
    "#prox_mat = kernel(train_distances[::20])\n",
    "prox_mat = kernel(train_distances[:40,:])\n",
    "plt.imshow(prox_mat)"
   ]
  },
  {
   "cell_type": "markdown",
   "metadata": {},
   "source": [
    "For the rest of the exercise we will take a length scale of $0.5$. Knowing that the kernelDMD needs to compute the distance matrix for the full training dataset, we will use the Nyström approximation to accelerate training."
   ]
  },
  {
   "cell_type": "markdown",
   "metadata": {},
   "source": [
    "**Question 4.** Build the Nyström reduced rank regression (N-RRR) model used for training. \n",
    "Important hyperparameters are:\n",
    " - The kernel, here a Gaussian (RBF) kernel with length-scale 0.5. You can use any other kernels supported by scipy to compare performances.\n",
    " - `reduced_rank`, an option to switch between kernel ridge regression and reduced rank regression, we will set it to True.\n",
    " - The regularizer `tikhonov_reg`, should be a small positive number to ensure a stable solution.\n",
    " - The rank of the model to be trained: this depends on the system being analyzed. Note that rank gives the number of eigenvalues the system keeps.\n",
    " - The number of Nyström centers. Increasing this parameter makes the model slower to train but also more accurate. We will set this parameter around 500.\n",
    " \n",
    "Fit the estimator for different values for the tikhonov_reg and rank and compare the RMSEs by running predictions on the test set. You should achieve a RMSE below 0,050. Try to fit the estimator with a kernel having a length scale of $10^{-3}$ and $100$. What do you observe?"
   ]
  },
  {
   "cell_type": "code",
   "execution_count": 73,
   "metadata": {},
   "outputs": [
    {
     "data": {
      "text/plain": [
       "(12490, 2, 45)"
      ]
     },
     "execution_count": 73,
     "metadata": {},
     "output_type": "execute_result"
    }
   ],
   "source": [
    "ts_dist_ctx.shape"
   ]
  },
  {
   "cell_type": "code",
   "execution_count": 79,
   "metadata": {
    "ExecuteTime": {
     "end_time": "2024-03-05T14:34:11.244110679Z",
     "start_time": "2024-03-05T14:34:11.221655287Z"
    }
   },
   "outputs": [
    {
     "name": "stdout",
     "output_type": "stream",
     "text": [
      "0.0018015233411066694\n"
     ]
    },
    {
     "data": {
      "text/plain": [
       "\"\\nprint('ls = 0.5 rmse : ', rmse)\\nkernel = RBF(length_scale=1e-3)\\nNRRR = NystroemKernel(kernel=kernel,reduced_rank=True,tikhonov_reg=1e-8,rank=5,num_centers=500)\\nNRRR.fit(tr_dist_ctx)\\npred = NRRR.predict(ts_dist_ctx)\\nrmse = np.sqrt((np.sum((pred-ts_dist_ctx)**2)))/ts_dist_ctx.shape[0]\\nprint('ls = 0.5 rmse : ', rmse)\\n\""
      ]
     },
     "execution_count": 79,
     "metadata": {},
     "output_type": "execute_result"
    }
   ],
   "source": [
    "nys_rrr = NystroemKernel(kernel=kernel,reduced_rank=True,tikhonov_reg=1e-8,rank=5,num_centers=500)\n",
    "nys_rrr.fit(tr_dist_ctx)\n",
    "pred = nys_rrr.predict(ts_dist_ctx)\n",
    "true = ts_dist_ctx.lookforward(NRRR.lookback_len)\n",
    "rmse = np.sqrt((np.sum((pred-true)**2)))/ts_dist_ctx.shape[0]\n",
    "\n",
    "print(rmse)\n",
    "\n",
    "\n",
    "\n",
    "\n",
    "\n",
    "\n",
    "\"\"\"\n",
    "print('ls = 0.5 rmse : ', rmse)\n",
    "kernel = RBF(length_scale=1e-3)\n",
    "NRRR = NystroemKernel(kernel=kernel,reduced_rank=True,tikhonov_reg=1e-8,rank=5,num_centers=500)\n",
    "NRRR.fit(tr_dist_ctx)\n",
    "pred = NRRR.predict(ts_dist_ctx)\n",
    "rmse = np.sqrt((np.sum((pred-ts_dist_ctx)**2)))/ts_dist_ctx.shape[0]\n",
    "print('ls = 0.5 rmse : ', rmse)\n",
    "\"\"\""
   ]
  },
  {
   "cell_type": "code",
   "execution_count": null,
   "metadata": {},
   "outputs": [],
   "source": []
  },
  {
   "cell_type": "code",
   "execution_count": null,
   "metadata": {},
   "outputs": [],
   "source": []
  },
  {
   "cell_type": "code",
   "execution_count": null,
   "metadata": {},
   "outputs": [],
   "source": []
  },
  {
   "cell_type": "markdown",
   "metadata": {},
   "source": [
    "## Spectral Analysis\n",
    "\n",
    "Given the Koopman operator we've learned with Nystroem RRR we can analyze the dynamical system.\n",
    "\n",
    "To do this we will use the **spectrum** of the operator: the eigenvalues and eigenvectors.\n",
    "\n",
    "Each eigenpair describes a different component of the dynamics. Eigenvalues provide information about the *relaxation time-scales* of each component, larger eigenvalues correspond to slower processes, while smaller ones correspond to faster processes. On the other hand eigenvectors describe how each component varies in space. A common way to use the eigenvectors is to provide a dimensionality reduction of the original (high-dimensional) states onto the **slowest dynamics** corresponding to the eigenvectors with highest eigenvalues.\n",
    "\n",
    "A special mention to the highest eigenpair which should have eigenvalue close to 1. This is the stationary dynamics, and is generally not used for spectral analysis."
   ]
  },
  {
   "cell_type": "markdown",
   "metadata": {},
   "source": [
    "First we use the `nys_rrr` object to compute the eigenvalues of the operator, and the eigenvectors.\n",
    "Note that since the Koopman operator is technically an *infinite dimensional operator* it doesn't have eigenvectors but **eigenfunctions**. For this reason, in order to have a concrete, finite-dimensional representation, the eigenfunctions must be evaluated on some data-points. Here we evaluate the right eigenfunctions on the subsampled test distances. Here it doesn't really matter if you're using the `X` or `Y` part of the data.\n",
    "\n",
    "Another thing to note is that the eigenvalues are returned in ascending order. You will have to reverse the order to simplify the analysis later (since we're most interested in the highest eigenvalues!)"
   ]
  },
  {
   "cell_type": "markdown",
   "metadata": {},
   "source": [
    "**Question 5.** Using the eig method of our estimator, select the first four eigenvalues. \n",
    "Derive the time scales implied by the eigenvalues. \n",
    "Is the first eigenvalue relevant for our analysis? Try to play with the rank parameter of the model and observe the decay of the time scales."
   ]
  },
  {
   "cell_type": "code",
   "execution_count": 82,
   "metadata": {
    "ExecuteTime": {
     "end_time": "2024-03-05T14:34:20.143658301Z",
     "start_time": "2024-03-05T14:34:19.011204588Z"
    }
   },
   "outputs": [],
   "source": [
    "#modulus of eigenvalue gives an idea about hwo fast it disappears\n",
    "#argument --> gives the frequency of the signal \n",
    "#the bigger the eigenvalue, the longer the state remains\n",
    "#we have pairs only for the eigenvalues that are complex, for the real eigenvalues, we don't have pairs. \n",
    "\"\"\"\n",
    "evals, evec_right = nys_rrr.eig(eval_right_on=ts_dist_ctx)\n",
    "top_evals\n",
    "\"\"\""
   ]
  },
  {
   "cell_type": "markdown",
   "metadata": {},
   "source": [
    "**Question 6.** We now have to take into account the fact that we've subsampled the data, and that we have generated trajectories such that the Koopman operator predicts Y from X where the pairs are `time_lag` time-steps apart. Knowing that the trajectories have a time-step of 1ps, compute the implied time-scales.\n",
    "\n",
    "Note that:\n",
    " - we exclude the top eigenvalue (which corresponds to the stationary distribution), since it theoretically has an infinite relaxation time-scale\n",
    " - the spectrum for this system decays very rapidly as there are only two or three slow components to the dynamics. Since the other components are much faster, their true eigenvalues are very close to 0. The learned estimator will have some small errors due to having access to a finite dataset, so these eigenvalues might be estimated to be slightly lower than zero which causes them to have an **undefined time-scale**."
   ]
  },
  {
   "cell_type": "code",
   "execution_count": 83,
   "metadata": {
    "ExecuteTime": {
     "end_time": "2024-03-05T14:34:20.723338649Z",
     "start_time": "2024-03-05T14:34:20.703561042Z"
    }
   },
   "outputs": [
    {
     "name": "stdout",
     "output_type": "stream",
     "text": [
      "[0.00788351-0.006567j 0.00788351+0.006567j 0.06602841+0.j\n",
      " 0.81861812+0.j       0.99999003+0.j      ]\n"
     ]
    }
   ],
   "source": [
    "print(test_list)"
   ]
  },
  {
   "cell_type": "markdown",
   "metadata": {},
   "source": [
    "**Question 7.** Finally, we're going to plot the first three eigenfunctions (excluding the stationary distribution) on the test data. We will superimpose the eigenfunctions, which in the plot below are represented with as the color, to the Ramachandran plot.\n",
    "Since we know that the Ramachandran plot provides a good clustering of the dynamics of the alanine dipeptide, we wish to see whether the color (eigenfunctions) also matches the clusters well.\n",
    "\n",
    "By matching each eigenfunction to an eigenvalue we will also learn which transition between different areas of the Ramachandran plot is slowest."
   ]
  },
  {
   "cell_type": "code",
   "execution_count": null,
   "metadata": {
    "ExecuteTime": {
     "end_time": "2024-03-05T14:34:25.660962703Z",
     "start_time": "2024-03-05T14:34:24.406552836Z"
    }
   },
   "outputs": [],
   "source": []
  },
  {
   "cell_type": "markdown",
   "metadata": {},
   "source": [
    "**Question 8.** Comment on the clusters. If some plots are duplicated, what explanation can you find?"
   ]
  },
  {
   "cell_type": "markdown",
   "metadata": {},
   "source": [
    "## Consistency Analysis\n",
    "\n",
    "An important aspect of a spectral analysis is that it should remain consistent across different time-lags.\n",
    "\n",
    "We will analyze the implied time-scale (ITS) in terms of number of simulation steps (thus ignoring the real units of the simulation and the subsampling).\n",
    "\n",
    "As we train models with increasing time lags (the time lag is the distance in number of simulation steps between x and y pairs), the estimated eigenvalues will become smaller since the model's time-unit is the single time-lag, and relaxation becomes faster in terms of # of time-lags. However the ITS should remain relatively stable.\n",
    "\n",
    "As we increase the time lags even further, faster dynamics will have relaxation times which are faster than a single time-lag, hence the model won't be able to estimate those reliably.\n",
    "\n",
    "We will see that the 1st ITS increases rapidly as we start increasing the time lags. This behavior is well documented in similar models. At some point however it converges, much before it becomes too fast to be resolved.\n",
    "\n",
    "The 2nd ITS instead is much smaller, hence it won't be resolved with higher time-lags. However we find that it converges very quickly at small time-lags."
   ]
  },
  {
   "cell_type": "markdown",
   "metadata": {},
   "source": [
    "**Question 9.** Define a helper function to train a model and return its ITS and test RMSE at a specific time-lag."
   ]
  },
  {
   "cell_type": "code",
   "execution_count": null,
   "metadata": {
    "code_folding": [
     0
    ]
   },
   "outputs": [],
   "source": []
  },
  {
   "cell_type": "markdown",
   "metadata": {},
   "source": [
    "**Question 10.** Train one model per time-lag in a list going from 1 to 100. Note that since the Nystroem method is very efficient we can quickly train many models even with many time-points (subsample=5 means training with 50k points). Plot the RMSE and ITS for the different time lags."
   ]
  },
  {
   "cell_type": "code",
   "execution_count": null,
   "metadata": {
    "scrolled": true
   },
   "outputs": [],
   "source": []
  }
 ],
 "metadata": {
  "colab": {
   "provenance": []
  },
  "kernelspec": {
   "display_name": "Python 3 (ipykernel)",
   "language": "python",
   "name": "python3"
  },
  "language_info": {
   "codemirror_mode": {
    "name": "ipython",
    "version": 3
   },
   "file_extension": ".py",
   "mimetype": "text/x-python",
   "name": "python",
   "nbconvert_exporter": "python",
   "pygments_lexer": "ipython3",
   "version": "3.12.6"
  },
  "toc": {
   "base_numbering": 1,
   "nav_menu": {},
   "number_sections": true,
   "sideBar": true,
   "skip_h1_title": false,
   "title_cell": "Table of Contents",
   "title_sidebar": "Contents",
   "toc_cell": false,
   "toc_position": {},
   "toc_section_display": true,
   "toc_window_display": false
  },
  "widgets": {
   "application/vnd.jupyter.widget-state+json": {
    "19e0e58980bc45a6b72901a0ed8d617d": {
     "model_module": "@jupyter-widgets/controls",
     "model_module_version": "1.5.0",
     "model_name": "ProgressStyleModel",
     "state": {
      "_model_module": "@jupyter-widgets/controls",
      "_model_module_version": "1.5.0",
      "_model_name": "ProgressStyleModel",
      "_view_count": null,
      "_view_module": "@jupyter-widgets/base",
      "_view_module_version": "1.2.0",
      "_view_name": "StyleView",
      "bar_color": null,
      "description_width": ""
     }
    },
    "2318fb6617794c9689e6aeaf5371fc15": {
     "model_module": "@jupyter-widgets/base",
     "model_module_version": "1.2.0",
     "model_name": "LayoutModel",
     "state": {
      "_model_module": "@jupyter-widgets/base",
      "_model_module_version": "1.2.0",
      "_model_name": "LayoutModel",
      "_view_count": null,
      "_view_module": "@jupyter-widgets/base",
      "_view_module_version": "1.2.0",
      "_view_name": "LayoutView",
      "align_content": null,
      "align_items": null,
      "align_self": null,
      "border": null,
      "bottom": null,
      "display": null,
      "flex": null,
      "flex_flow": null,
      "grid_area": null,
      "grid_auto_columns": null,
      "grid_auto_flow": null,
      "grid_auto_rows": null,
      "grid_column": null,
      "grid_gap": null,
      "grid_row": null,
      "grid_template_areas": null,
      "grid_template_columns": null,
      "grid_template_rows": null,
      "height": null,
      "justify_content": null,
      "justify_items": null,
      "left": null,
      "margin": null,
      "max_height": null,
      "max_width": null,
      "min_height": null,
      "min_width": null,
      "object_fit": null,
      "object_position": null,
      "order": null,
      "overflow": null,
      "overflow_x": null,
      "overflow_y": null,
      "padding": null,
      "right": null,
      "top": null,
      "visibility": null,
      "width": null
     }
    },
    "2dd3af58d27145af86dcce0900385559": {
     "model_module": "@jupyter-widgets/base",
     "model_module_version": "1.2.0",
     "model_name": "LayoutModel",
     "state": {
      "_model_module": "@jupyter-widgets/base",
      "_model_module_version": "1.2.0",
      "_model_name": "LayoutModel",
      "_view_count": null,
      "_view_module": "@jupyter-widgets/base",
      "_view_module_version": "1.2.0",
      "_view_name": "LayoutView",
      "align_content": null,
      "align_items": null,
      "align_self": null,
      "border": null,
      "bottom": null,
      "display": null,
      "flex": null,
      "flex_flow": null,
      "grid_area": null,
      "grid_auto_columns": null,
      "grid_auto_flow": null,
      "grid_auto_rows": null,
      "grid_column": null,
      "grid_gap": null,
      "grid_row": null,
      "grid_template_areas": null,
      "grid_template_columns": null,
      "grid_template_rows": null,
      "height": null,
      "justify_content": null,
      "justify_items": null,
      "left": null,
      "margin": null,
      "max_height": null,
      "max_width": null,
      "min_height": null,
      "min_width": null,
      "object_fit": null,
      "object_position": null,
      "order": null,
      "overflow": null,
      "overflow_x": null,
      "overflow_y": null,
      "padding": null,
      "right": null,
      "top": null,
      "visibility": null,
      "width": null
     }
    },
    "81f93556778141d9bee673611bee5cda": {
     "model_module": "@jupyter-widgets/base",
     "model_module_version": "1.2.0",
     "model_name": "LayoutModel",
     "state": {
      "_model_module": "@jupyter-widgets/base",
      "_model_module_version": "1.2.0",
      "_model_name": "LayoutModel",
      "_view_count": null,
      "_view_module": "@jupyter-widgets/base",
      "_view_module_version": "1.2.0",
      "_view_name": "LayoutView",
      "align_content": null,
      "align_items": null,
      "align_self": null,
      "border": null,
      "bottom": null,
      "display": null,
      "flex": null,
      "flex_flow": null,
      "grid_area": null,
      "grid_auto_columns": null,
      "grid_auto_flow": null,
      "grid_auto_rows": null,
      "grid_column": null,
      "grid_gap": null,
      "grid_row": null,
      "grid_template_areas": null,
      "grid_template_columns": null,
      "grid_template_rows": null,
      "height": null,
      "justify_content": null,
      "justify_items": null,
      "left": null,
      "margin": null,
      "max_height": null,
      "max_width": null,
      "min_height": null,
      "min_width": null,
      "object_fit": null,
      "object_position": null,
      "order": null,
      "overflow": null,
      "overflow_x": null,
      "overflow_y": null,
      "padding": null,
      "right": null,
      "top": null,
      "visibility": null,
      "width": null
     }
    },
    "8dabcf63fc2545fe80eeb93f281b3bcb": {
     "model_module": "@jupyter-widgets/controls",
     "model_module_version": "1.5.0",
     "model_name": "DescriptionStyleModel",
     "state": {
      "_model_module": "@jupyter-widgets/controls",
      "_model_module_version": "1.5.0",
      "_model_name": "DescriptionStyleModel",
      "_view_count": null,
      "_view_module": "@jupyter-widgets/base",
      "_view_module_version": "1.2.0",
      "_view_name": "StyleView",
      "description_width": ""
     }
    },
    "9901c977873249919918c817992198ea": {
     "model_module": "@jupyter-widgets/controls",
     "model_module_version": "1.5.0",
     "model_name": "HTMLModel",
     "state": {
      "_dom_classes": [],
      "_model_module": "@jupyter-widgets/controls",
      "_model_module_version": "1.5.0",
      "_model_name": "HTMLModel",
      "_view_count": null,
      "_view_module": "@jupyter-widgets/controls",
      "_view_module_version": "1.5.0",
      "_view_name": "HTMLView",
      "description": "",
      "description_tooltip": null,
      "layout": "IPY_MODEL_f8cc31bfa6a14b378159dddd1449efaa",
      "placeholder": "​",
      "style": "IPY_MODEL_c0d59c678f1a4f8280d37ecd359b0770",
      "value": " 10/10 [06:12&lt;00:00, 84.17s/it]"
     }
    },
    "c0d59c678f1a4f8280d37ecd359b0770": {
     "model_module": "@jupyter-widgets/controls",
     "model_module_version": "1.5.0",
     "model_name": "DescriptionStyleModel",
     "state": {
      "_model_module": "@jupyter-widgets/controls",
      "_model_module_version": "1.5.0",
      "_model_name": "DescriptionStyleModel",
      "_view_count": null,
      "_view_module": "@jupyter-widgets/base",
      "_view_module_version": "1.2.0",
      "_view_name": "StyleView",
      "description_width": ""
     }
    },
    "d21255b746d649dc9e64e71b6cf5f24c": {
     "model_module": "@jupyter-widgets/controls",
     "model_module_version": "1.5.0",
     "model_name": "HBoxModel",
     "state": {
      "_dom_classes": [],
      "_model_module": "@jupyter-widgets/controls",
      "_model_module_version": "1.5.0",
      "_model_name": "HBoxModel",
      "_view_count": null,
      "_view_module": "@jupyter-widgets/controls",
      "_view_module_version": "1.5.0",
      "_view_name": "HBoxView",
      "box_style": "",
      "children": [
       "IPY_MODEL_dfc37a052efd48cab1be30f8edf3f5fe",
       "IPY_MODEL_e885056751f54a2ebaa9eb7a37d8f623",
       "IPY_MODEL_9901c977873249919918c817992198ea"
      ],
      "layout": "IPY_MODEL_81f93556778141d9bee673611bee5cda"
     }
    },
    "dfc37a052efd48cab1be30f8edf3f5fe": {
     "model_module": "@jupyter-widgets/controls",
     "model_module_version": "1.5.0",
     "model_name": "HTMLModel",
     "state": {
      "_dom_classes": [],
      "_model_module": "@jupyter-widgets/controls",
      "_model_module_version": "1.5.0",
      "_model_name": "HTMLModel",
      "_view_count": null,
      "_view_module": "@jupyter-widgets/controls",
      "_view_module_version": "1.5.0",
      "_view_name": "HTMLView",
      "description": "",
      "description_tooltip": null,
      "layout": "IPY_MODEL_2dd3af58d27145af86dcce0900385559",
      "placeholder": "​",
      "style": "IPY_MODEL_8dabcf63fc2545fe80eeb93f281b3bcb",
      "value": "Number of training points: 100%"
     }
    },
    "e885056751f54a2ebaa9eb7a37d8f623": {
     "model_module": "@jupyter-widgets/controls",
     "model_module_version": "1.5.0",
     "model_name": "FloatProgressModel",
     "state": {
      "_dom_classes": [],
      "_model_module": "@jupyter-widgets/controls",
      "_model_module_version": "1.5.0",
      "_model_name": "FloatProgressModel",
      "_view_count": null,
      "_view_module": "@jupyter-widgets/controls",
      "_view_module_version": "1.5.0",
      "_view_name": "ProgressView",
      "bar_style": "success",
      "description": "",
      "description_tooltip": null,
      "layout": "IPY_MODEL_2318fb6617794c9689e6aeaf5371fc15",
      "max": 10,
      "min": 0,
      "orientation": "horizontal",
      "style": "IPY_MODEL_19e0e58980bc45a6b72901a0ed8d617d",
      "value": 10
     }
    },
    "f8cc31bfa6a14b378159dddd1449efaa": {
     "model_module": "@jupyter-widgets/base",
     "model_module_version": "1.2.0",
     "model_name": "LayoutModel",
     "state": {
      "_model_module": "@jupyter-widgets/base",
      "_model_module_version": "1.2.0",
      "_model_name": "LayoutModel",
      "_view_count": null,
      "_view_module": "@jupyter-widgets/base",
      "_view_module_version": "1.2.0",
      "_view_name": "LayoutView",
      "align_content": null,
      "align_items": null,
      "align_self": null,
      "border": null,
      "bottom": null,
      "display": null,
      "flex": null,
      "flex_flow": null,
      "grid_area": null,
      "grid_auto_columns": null,
      "grid_auto_flow": null,
      "grid_auto_rows": null,
      "grid_column": null,
      "grid_gap": null,
      "grid_row": null,
      "grid_template_areas": null,
      "grid_template_columns": null,
      "grid_template_rows": null,
      "height": null,
      "justify_content": null,
      "justify_items": null,
      "left": null,
      "margin": null,
      "max_height": null,
      "max_width": null,
      "min_height": null,
      "min_width": null,
      "object_fit": null,
      "object_position": null,
      "order": null,
      "overflow": null,
      "overflow_x": null,
      "overflow_y": null,
      "padding": null,
      "right": null,
      "top": null,
      "visibility": null,
      "width": null
     }
    }
   }
  }
 },
 "nbformat": 4,
 "nbformat_minor": 4
}
